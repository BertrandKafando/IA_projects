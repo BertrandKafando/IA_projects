{
 "cells": [
  {
   "cell_type": "code",
   "execution_count": null,
   "id": "3987f5c1",
   "metadata": {},
   "outputs": [],
   "source": [
    "#packages\n",
    "import numpy as np\n",
    "from sklearn.datasets import make_regression\n",
    "import matplotlib.pyplot as plt\n",
    "import random"
   ]
  },
  {
   "cell_type": "code",
   "execution_count": null,
   "id": "40063fef",
   "metadata": {},
   "outputs": [],
   "source": [
    "#1-dataset\n",
    "x,y=make_regression(n_samples=100,n_features=1,noise=10)\n",
    "#visualiser\n",
    "plt.scatter(x[:,0],y)\n"
   ]
  },
  {
   "cell_type": "code",
   "execution_count": null,
   "id": "f338f843",
   "metadata": {},
   "outputs": [],
   "source": [
    "#verifier la dim\n",
    "print(x.shape)\n",
    "#y anormal\n",
    "y=y.reshape(y.shape[0],1)\n",
    "print(y.shape)"
   ]
  },
  {
   "cell_type": "code",
   "execution_count": 116,
   "id": "b075cc33",
   "metadata": {
    "scrolled": true
   },
   "outputs": [
    {
     "data": {
      "text/plain": [
       "array([[-2.35781571e+00,  1.00000000e+00],\n",
       "       [-2.50344706e+00,  1.00000000e+00],\n",
       "       [ 1.55600488e-01,  1.00000000e+00],\n",
       "       [-7.40963041e-01,  1.00000000e+00],\n",
       "       [ 1.66928368e-01,  1.00000000e+00],\n",
       "       [-2.22528840e+00,  1.00000000e+00],\n",
       "       [ 4.37602052e-01,  1.00000000e+00],\n",
       "       [ 5.46260436e-01,  1.00000000e+00],\n",
       "       [-9.94526790e-01,  1.00000000e+00],\n",
       "       [-4.14162323e-01,  1.00000000e+00],\n",
       "       [ 2.00235753e+00,  1.00000000e+00],\n",
       "       [ 3.26052865e-02,  1.00000000e+00],\n",
       "       [-1.01215907e+00,  1.00000000e+00],\n",
       "       [-5.24510684e-01,  1.00000000e+00],\n",
       "       [-1.44145195e-01,  1.00000000e+00],\n",
       "       [ 4.14056023e-01,  1.00000000e+00],\n",
       "       [ 6.78429558e-01,  1.00000000e+00],\n",
       "       [ 1.74997026e-01,  1.00000000e+00],\n",
       "       [-4.71086333e-01,  1.00000000e+00],\n",
       "       [-2.06534129e-01,  1.00000000e+00],\n",
       "       [-1.48774254e+00,  1.00000000e+00],\n",
       "       [-4.65567577e-01,  1.00000000e+00],\n",
       "       [-6.71320921e-01,  1.00000000e+00],\n",
       "       [ 7.71872367e-01,  1.00000000e+00],\n",
       "       [-1.27428657e+00,  1.00000000e+00],\n",
       "       [ 7.57387293e-01,  1.00000000e+00],\n",
       "       [ 3.03327799e-01,  1.00000000e+00],\n",
       "       [ 1.35891649e-01,  1.00000000e+00],\n",
       "       [-5.03855898e-02,  1.00000000e+00],\n",
       "       [ 1.57898082e+00,  1.00000000e+00],\n",
       "       [-1.07412988e+00,  1.00000000e+00],\n",
       "       [ 1.19252762e+00,  1.00000000e+00],\n",
       "       [-7.04502116e-01,  1.00000000e+00],\n",
       "       [ 1.68252444e+00,  1.00000000e+00],\n",
       "       [ 8.53392270e-01,  1.00000000e+00],\n",
       "       [ 3.22672098e-02,  1.00000000e+00],\n",
       "       [-2.06886600e-01,  1.00000000e+00],\n",
       "       [ 1.40874313e+00,  1.00000000e+00],\n",
       "       [-4.90135967e-01,  1.00000000e+00],\n",
       "       [-7.18386246e-01,  1.00000000e+00],\n",
       "       [-1.47888289e+00,  1.00000000e+00],\n",
       "       [-3.91195921e-01,  1.00000000e+00],\n",
       "       [ 1.60427054e-01,  1.00000000e+00],\n",
       "       [-2.48861359e+00,  1.00000000e+00],\n",
       "       [-7.33781344e-01,  1.00000000e+00],\n",
       "       [ 1.80391382e+00,  1.00000000e+00],\n",
       "       [-2.60044196e+00,  1.00000000e+00],\n",
       "       [ 1.21055001e+00,  1.00000000e+00],\n",
       "       [-9.02751096e-02,  1.00000000e+00],\n",
       "       [ 1.98193841e+00,  1.00000000e+00],\n",
       "       [ 1.96817341e+00,  1.00000000e+00],\n",
       "       [-8.40029937e-01,  1.00000000e+00],\n",
       "       [-1.88971030e-01,  1.00000000e+00],\n",
       "       [ 1.37320547e-01,  1.00000000e+00],\n",
       "       [-4.08040990e-01,  1.00000000e+00],\n",
       "       [ 1.33549964e+00,  1.00000000e+00],\n",
       "       [-1.48052147e+00,  1.00000000e+00],\n",
       "       [-2.59500537e+00,  1.00000000e+00],\n",
       "       [ 1.01826038e+00,  1.00000000e+00],\n",
       "       [-1.92488670e+00,  1.00000000e+00],\n",
       "       [ 5.95941971e-01,  1.00000000e+00],\n",
       "       [ 1.14389461e+00,  1.00000000e+00],\n",
       "       [-1.04376525e+00,  1.00000000e+00],\n",
       "       [-1.52342969e-01,  1.00000000e+00],\n",
       "       [ 1.25956860e+00,  1.00000000e+00],\n",
       "       [ 6.08611784e-01,  1.00000000e+00],\n",
       "       [ 5.83730098e-01,  1.00000000e+00],\n",
       "       [ 1.79318981e-01,  1.00000000e+00],\n",
       "       [-1.62834804e+00,  1.00000000e+00],\n",
       "       [ 1.32927063e-01,  1.00000000e+00],\n",
       "       [-1.83028505e-01,  1.00000000e+00],\n",
       "       [ 3.01273066e-01,  1.00000000e+00],\n",
       "       [-2.33537866e+00,  1.00000000e+00],\n",
       "       [ 1.08886531e+00,  1.00000000e+00],\n",
       "       [ 1.82551045e+00,  1.00000000e+00],\n",
       "       [ 3.41889379e-03,  1.00000000e+00],\n",
       "       [-2.62606546e-01,  1.00000000e+00],\n",
       "       [-2.84533904e-01,  1.00000000e+00],\n",
       "       [-6.38280925e-01,  1.00000000e+00],\n",
       "       [-1.50058977e+00,  1.00000000e+00],\n",
       "       [ 1.43452607e-01,  1.00000000e+00],\n",
       "       [ 6.97349352e-02,  1.00000000e+00],\n",
       "       [ 2.19940964e-03,  1.00000000e+00],\n",
       "       [-7.53472943e-01,  1.00000000e+00],\n",
       "       [-5.27736077e-01,  1.00000000e+00],\n",
       "       [ 7.68712056e-01,  1.00000000e+00],\n",
       "       [ 1.15439932e+00,  1.00000000e+00],\n",
       "       [ 9.53500956e-02,  1.00000000e+00],\n",
       "       [-2.11925174e+00,  1.00000000e+00],\n",
       "       [-5.83519490e-01,  1.00000000e+00],\n",
       "       [ 4.08355498e-01,  1.00000000e+00],\n",
       "       [-9.24993413e-01,  1.00000000e+00],\n",
       "       [ 8.34049997e-01,  1.00000000e+00],\n",
       "       [-1.13830566e+00,  1.00000000e+00],\n",
       "       [-8.29453055e-01,  1.00000000e+00],\n",
       "       [ 1.01076675e+00,  1.00000000e+00],\n",
       "       [ 2.22602174e-01,  1.00000000e+00],\n",
       "       [-1.68138048e+00,  1.00000000e+00],\n",
       "       [-9.51279365e-01,  1.00000000e+00],\n",
       "       [-6.42585550e-01,  1.00000000e+00]])"
      ]
     },
     "execution_count": 116,
     "metadata": {},
     "output_type": "execute_result"
    }
   ],
   "source": [
    "#matrice\n",
    "#coler des 1 a x pour X\n",
    "#ajoueter x**2\n",
    "X=np.hstack((x,np.ones((x.shape[0],1))))\n",
    "X"
   ]
  },
  {
   "cell_type": "code",
   "execution_count": 117,
   "id": "17ec138e",
   "metadata": {},
   "outputs": [
    {
     "data": {
      "text/plain": [
       "array([[ 4.05720067],\n",
       "       [16.15422649]])"
      ]
     },
     "execution_count": 117,
     "metadata": {},
     "output_type": "execute_result"
    }
   ],
   "source": [
    "#initialiser les coefficients de manière aléatoires\n",
    "theta=np.random.randn(2,1)*20\n",
    "theta\n"
   ]
  },
  {
   "cell_type": "code",
   "execution_count": 118,
   "id": "dda010fe",
   "metadata": {},
   "outputs": [
    {
     "data": {
      "text/plain": [
       "array([[64.34986476,  0.        ]])"
      ]
     },
     "execution_count": 118,
     "metadata": {},
     "output_type": "execute_result"
    }
   ],
   "source": [
    "from sklearn.linear_model import LinearRegression\n",
    "h=LinearRegression()\n",
    "h.fit(X,y)\n",
    "h.coef_\n",
    "\n",
    "#h.predict(X)\n"
   ]
  },
  {
   "cell_type": "code",
   "execution_count": 119,
   "id": "e0d14648",
   "metadata": {},
   "outputs": [],
   "source": [
    "def model(x,theta):\n",
    "    \n",
    "    return x.dot(theta)\n",
    "    "
   ]
  },
  {
   "cell_type": "code",
   "execution_count": 120,
   "id": "ea201adf",
   "metadata": {},
   "outputs": [
    {
     "data": {
      "text/plain": [
       "<matplotlib.collections.PathCollection at 0x1e9271dd6a0>"
      ]
     },
     "execution_count": 120,
     "metadata": {},
     "output_type": "execute_result"
    },
    {
     "data": {
      "image/png": "[encoded data removed]",
      "text/plain": [
       "<Figure size 432x288 with 1 Axes>"
      ]
     },
     "metadata": {
      "needs_background": "light"
     },
     "output_type": "display_data"
    }
   ],
   "source": [
    "#test\n",
    "plt.plot(x,model(X,theta),\"r\")\n",
    "plt.scatter(x[:,0],y)"
   ]
  },
  {
   "cell_type": "code",
   "execution_count": 121,
   "id": "628828e3",
   "metadata": {},
   "outputs": [],
   "source": [
    "#fonction cout"
   ]
  },
  {
   "cell_type": "code",
   "execution_count": 122,
   "id": "98d2a6a1",
   "metadata": {},
   "outputs": [],
   "source": [
    "def cost_fct(x,y,theta):\n",
    "    m=len(y)\n",
    "    return 1/(2*m)* np.sum((model(x,theta)-y)**2)"
   ]
  },
  {
   "cell_type": "code",
   "execution_count": 123,
   "id": "00bd66c5",
   "metadata": {},
   "outputs": [
    {
     "data": {
      "text/plain": [
       "2615.978739133084"
      ]
     },
     "execution_count": 123,
     "metadata": {},
     "output_type": "execute_result"
    }
   ],
   "source": [
    "cost_fct(X,y,theta)"
   ]
  },
  {
   "cell_type": "code",
   "execution_count": 124,
   "id": "3565638d",
   "metadata": {},
   "outputs": [],
   "source": [
    "#solution satistifaisante\n",
    "def coef_deter(y,pred):\n",
    "    u=((y-pred)**2).sum()\n",
    "    v=((y-y.mean())**2).sum()\n",
    "    return 1-u/v\n",
    "\n",
    "def satisfaisante(y,pred):\n",
    "    if(coef_deter(y,pred)<=1 and coef_deter(y,pred)>=0.5):\n",
    "        return 1\n",
    "    else:\n",
    "        return 0"
   ]
  },
  {
   "cell_type": "code",
   "execution_count": null,
   "id": "48a6446f",
   "metadata": {},
   "outputs": [],
   "source": []
  },
  {
   "cell_type": "code",
   "execution_count": 125,
   "id": "82235712",
   "metadata": {},
   "outputs": [
    {
     "data": {
      "text/plain": [
       "array([ 54.61620478, -31.79636309])"
      ]
     },
     "execution_count": 125,
     "metadata": {},
     "output_type": "execute_result"
    }
   ],
   "source": [
    "\n",
    "np.random.randn(2,)*50"
   ]
  },
  {
   "cell_type": "code",
   "execution_count": 126,
   "id": "7301b26a",
   "metadata": {},
   "outputs": [],
   "source": [
    "class Individu:\n",
    "     def __init__(self, solution):\n",
    "        self.solution = solution\n",
    "        self.fitness_value = 0\n",
    "    \n",
    "     def __str__(self):\n",
    "        return \"solution\"+self.solution\n",
    "        "
   ]
  },
  {
   "cell_type": "code",
   "execution_count": 127,
   "id": "6e906999",
   "metadata": {},
   "outputs": [],
   "source": [
    "#generate individu\n",
    "def gen_ind():\n",
    "    ind=Individu(np.random.randn(2,1)*50)\n",
    "    return ind\n"
   ]
  },
  {
   "cell_type": "code",
   "execution_count": 128,
   "id": "75ba69e7",
   "metadata": {},
   "outputs": [],
   "source": [
    "#generate population\n",
    "def gen_pop(m):\n",
    "    return [gen_ind() for _ in range(m)]\n"
   ]
  },
  {
   "cell_type": "code",
   "execution_count": 129,
   "id": "2bead1e9",
   "metadata": {},
   "outputs": [],
   "source": [
    "#selection par tournoi\n",
    "def selection(pop,taille):\n",
    "    best=pop[random.randint(0,len(pop)-1)]\n",
    "    for i in range (taille):\n",
    "        nextp=pop[random.randint(0,len(pop)-1)]\n",
    "        if(cost_fct(x,y,best.solution)>cost_fct(x,y,nextp.solution)):\n",
    "            best=nextp\n",
    "    return best"
   ]
  },
  {
   "cell_type": "code",
   "execution_count": 130,
   "id": "37398c11",
   "metadata": {},
   "outputs": [],
   "source": [
    "#cross over\n",
    "def cross_over(ind1,ind2):\n",
    "    c=random.randint(0,len(ind1.solution)-1)\n",
    "    for i in range(c):\n",
    "        temp=ind1.solution[i,0]\n",
    "        ind1.solution[i,0]=ind2.solution[i,0]\n",
    "        ind2.solution[i,0]=temp\n",
    "    return ind1,ind2\n",
    "    \n",
    "    \n",
    "    "
   ]
  },
  {
   "cell_type": "code",
   "execution_count": 131,
   "id": "4052e869",
   "metadata": {},
   "outputs": [],
   "source": [
    "#mutation\n",
    "def mutation(ind,proba):\n",
    "    for i in range(len(ind)-1):\n",
    "        if(random.random()<proba):\n",
    "            ind[i]=1-ind[i]\n",
    "    return ind"
   ]
  },
  {
   "cell_type": "code",
   "execution_count": 132,
   "id": "2effa6ca",
   "metadata": {},
   "outputs": [],
   "source": [
    "def genetic_algo(x,y,theta,popsize,n,n_max):\n",
    "    best=theta\n",
    "    n_iterations=0\n",
    "    #pop initial\n",
    "    pop=gen_pop(popsize)\n",
    "    Q=[]\n",
    "    while( satisfaisante(y,model(x,best))==False ):\n",
    "        n_iterations+=1\n",
    "        if(n_iterations>n_max):\n",
    "            break\n",
    "        for ind in pop:\n",
    "            ind.fitness_value=cost_fct(x,y,ind.solution)\n",
    "        #trier\n",
    "            \n",
    "        pop.sort(key=lambda x: x.fitness_value)\n",
    "            \n",
    "        if(  cost_fct(x,y,pop[0].solution)< cost_fct(x,y,best)):\n",
    "            best=pop[0].solution\n",
    "            print(\"///\")\n",
    "            print(best)\n",
    "        #selection des n meilleurs parents \n",
    "        Q=pop[:n]\n",
    "        \n",
    "       \n",
    "        #cross over\n",
    "        \n",
    "        for i in range(int((len(pop)-n)/2)):\n",
    "            pa=selection(pop,2)\n",
    "            pb=selection(pop,2)\n",
    "            ind1,ind2=cross_over(pa,pb)\n",
    "            Q.append(ind1)\n",
    "            Q.append(ind2)\n",
    " \n",
    "\n",
    "            \n",
    "        P=Q\n",
    "    return best\n",
    "    \n",
    "            \n",
    "        \n",
    "        \n",
    "            \n",
    "        \n",
    "            \n",
    "            \n",
    "        \n",
    "        \n",
    "        \n",
    "        \n",
    "        \n",
    "    \n",
    "    \n",
    "    "
   ]
  },
  {
   "cell_type": "code",
   "execution_count": null,
   "id": "095f81a5",
   "metadata": {
    "scrolled": true
   },
   "outputs": [],
   "source": [
    "#ML produire theta\n",
    "best=genetic_algo(X,y,theta,1000000,500,10)\n",
    "print(\"ok\")\n",
    "print(best)\n"
   ]
  },
  {
   "cell_type": "code",
   "execution_count": null,
   "id": "9cc02da3",
   "metadata": {},
   "outputs": [],
   "source": []
  },
  {
   "cell_type": "code",
   "execution_count": 361,
   "id": "a808cbb5",
   "metadata": {},
   "outputs": [
    {
     "data": {
      "text/plain": [
       "array([[ 73.48632349],\n",
       "       [-14.82975074]])"
      ]
     },
     "execution_count": 361,
     "metadata": {},
     "output_type": "execute_result"
    }
   ],
   "source": [
    "theta_final=best\n",
    "theta_final"
   ]
  },
  {
   "cell_type": "code",
   "execution_count": 362,
   "id": "08918bf8",
   "metadata": {},
   "outputs": [
    {
     "data": {
      "text/plain": [
       "<matplotlib.collections.PathCollection at 0x1c3a2fc3a90>"
      ]
     },
     "execution_count": 362,
     "metadata": {},
     "output_type": "execute_result"
    },
    {
     "data": {
      "image/png": "[encoded data removed]",
      "text/plain": [
       "<Figure size 432x288 with 1 Axes>"
      ]
     },
     "metadata": {
      "needs_background": "light"
     },
     "output_type": "display_data"
    }
   ],
   "source": [
    "#test\n",
    "plt.plot(x,model(X,theta_final),\"r\")\n",
    "plt.scatter(x[:,0],y)"
   ]
  },
  {
   "cell_type": "code",
   "execution_count": null,
   "id": "5fd5bb17",
   "metadata": {},
   "outputs": [],
   "source": []
  },
  {
   "cell_type": "code",
   "execution_count": null,
   "id": "2fcd70ff",
   "metadata": {},
   "outputs": [],
   "source": []
  },
  {
   "cell_type": "code",
   "execution_count": 113,
   "id": "63b33e2b",
   "metadata": {},
   "outputs": [],
   "source": [
    "#performance avec coeeficient de determination"
   ]
  },
  {
   "cell_type": "code",
   "execution_count": 60,
   "id": "613c2884",
   "metadata": {},
   "outputs": [],
   "source": [
    "def coef_deter(y,pred):\n",
    "    u=((y-pred)**2).sum()\n",
    "    v=((y-y.mean())**2).sum()\n",
    "    return 1-u/v"
   ]
  },
  {
   "cell_type": "code",
   "execution_count": 63,
   "id": "59dac255",
   "metadata": {},
   "outputs": [
    {
     "ename": "NameError",
     "evalue": "name 'theta_final' is not defined",
     "output_type": "error",
     "traceback": [
      "\u001b[1;31m---------------------------------------------------------------------------\u001b[0m",
      "\u001b[1;31mNameError\u001b[0m                                 Traceback (most recent call last)",
      "\u001b[1;32m<ipython-input-63-16abeac02d90>\u001b[0m in \u001b[0;36m<module>\u001b[1;34m\u001b[0m\n\u001b[1;32m----> 1\u001b[1;33m \u001b[0mcoef_deter\u001b[0m\u001b[1;33m(\u001b[0m\u001b[0my\u001b[0m\u001b[1;33m,\u001b[0m\u001b[0mmodel\u001b[0m\u001b[1;33m(\u001b[0m\u001b[0mX\u001b[0m\u001b[1;33m,\u001b[0m\u001b[0mtheta_final\u001b[0m\u001b[1;33m)\u001b[0m\u001b[1;33m)\u001b[0m\u001b[1;33m\u001b[0m\u001b[1;33m\u001b[0m\u001b[0m\n\u001b[0m",
      "\u001b[1;31mNameError\u001b[0m: name 'theta_final' is not defined"
     ]
    }
   ],
   "source": [
    "coef_deter(y,model(X,theta_final))"
   ]
  },
  {
   "cell_type": "code",
   "execution_count": null,
   "id": "d0bc725e",
   "metadata": {},
   "outputs": [],
   "source": []
  },
  {
   "cell_type": "code",
   "execution_count": null,
   "id": "8752acd9",
   "metadata": {},
   "outputs": [],
   "source": []
  },
  {
   "cell_type": "code",
   "execution_count": null,
   "id": "5a99323c",
   "metadata": {},
   "outputs": [],
   "source": []
  },
  {
   "cell_type": "code",
   "execution_count": null,
   "id": "adba2d35",
   "metadata": {},
   "outputs": [],
   "source": []
  }
 ],
 "metadata": {
  "kernelspec": {
   "display_name": "Python 3",
   "language": "python",
   "name": "python3"
  },
  "language_info": {
   "codemirror_mode": {
    "name": "ipython",
    "version": 3
   },
   "file_extension": ".py",
   "mimetype": "text/x-python",
   "name": "python",
   "nbconvert_exporter": "python",
   "pygments_lexer": "ipython3",
   "version": "3.8.8"
  }
 },
 "nbformat": 4,
 "nbformat_minor": 5
}
