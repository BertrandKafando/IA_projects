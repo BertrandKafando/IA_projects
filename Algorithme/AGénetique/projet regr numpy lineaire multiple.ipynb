{
 "cells": [
  {
   "cell_type": "code",
   "execution_count": 1,
   "id": "3987f5c1",
   "metadata": {},
   "outputs": [],
   "source": [
    "#packages\n",
    "import numpy as np\n",
    "from sklearn.datasets import make_regression\n",
    "import matplotlib.pyplot as plt\n",
    "import random"
   ]
  },
  {
   "cell_type": "code",
   "execution_count": 52,
   "id": "40063fef",
   "metadata": {},
   "outputs": [
    {
     "data": {
      "text/plain": [
       "<matplotlib.collections.PathCollection at 0x1fe087fe610>"
      ]
     },
     "execution_count": 52,
     "metadata": {},
     "output_type": "execute_result"
    },
    {
     "data": {
      "image/png": "[encoded data removed]",
      "text/plain": [
       "<Figure size 432x288 with 1 Axes>"
      ]
     },
     "metadata": {
      "needs_background": "light"
     },
     "output_type": "display_data"
    }
   ],
   "source": [
    "#1-dataset\n",
    "x,y=make_regression(n_samples=100,n_features=2,noise=10)\n",
    "#visualiser\n",
    "plt.scatter(x[:,0],y)\n"
   ]
  },
  {
   "cell_type": "code",
   "execution_count": 53,
   "id": "f338f843",
   "metadata": {},
   "outputs": [
    {
     "name": "stdout",
     "output_type": "stream",
     "text": [
      "(100, 2)\n",
      "(100, 1)\n"
     ]
    }
   ],
   "source": [
    "#verifier la dim\n",
    "print(x.shape)\n",
    "#y anormal\n",
    "y=y.reshape(y.shape[0],1)\n",
    "print(y.shape)"
   ]
  },
  {
   "cell_type": "code",
   "execution_count": 54,
   "id": "b075cc33",
   "metadata": {
    "scrolled": true
   },
   "outputs": [
    {
     "data": {
      "text/plain": [
       "array([[ 1.34135515,  0.55407876,  1.        ],\n",
       "       [-0.33826298, -1.68654924,  1.        ],\n",
       "       [ 1.75200554,  0.8237969 ,  1.        ],\n",
       "       [ 0.4300026 ,  0.47113426,  1.        ],\n",
       "       [-0.35846812, -0.25984189,  1.        ],\n",
       "       [-0.66877851, -1.33351479,  1.        ],\n",
       "       [-2.0990998 ,  1.55618317,  1.        ],\n",
       "       [ 0.55534686, -0.78061739,  1.        ],\n",
       "       [-0.45261479, -0.94957254,  1.        ],\n",
       "       [-0.90799009, -0.04741473,  1.        ],\n",
       "       [ 0.10042215,  1.39225584,  1.        ],\n",
       "       [-0.84875616, -0.67632133,  1.        ],\n",
       "       [-1.18630774, -1.02243163,  1.        ],\n",
       "       [ 1.27232086,  0.64053045,  1.        ],\n",
       "       [ 0.20337183, -1.51161299,  1.        ],\n",
       "       [-0.44738731,  0.72152611,  1.        ],\n",
       "       [ 0.64007744, -1.78320787,  1.        ],\n",
       "       [-0.68289314, -0.44115707,  1.        ],\n",
       "       [-0.35123584, -0.98270421,  1.        ],\n",
       "       [ 0.22790182, -0.52427858,  1.        ],\n",
       "       [ 1.27866923, -0.98075407,  1.        ],\n",
       "       [-1.2421799 , -0.04331768,  1.        ],\n",
       "       [ 0.5754137 ,  0.85954927,  1.        ],\n",
       "       [ 0.02036132, -0.63363046,  1.        ],\n",
       "       [ 0.63670277, -0.13710619,  1.        ],\n",
       "       [-1.79478384, -0.40865878,  1.        ],\n",
       "       [ 0.44011602,  0.56366273,  1.        ],\n",
       "       [-0.06253799, -0.31386227,  1.        ],\n",
       "       [-0.19648485, -2.57374785,  1.        ],\n",
       "       [ 1.37783839,  0.68067082,  1.        ],\n",
       "       [-0.69692632, -0.93744694,  1.        ],\n",
       "       [-0.13016863, -1.35544827,  1.        ],\n",
       "       [-0.75150347, -0.71977497,  1.        ],\n",
       "       [ 1.29008294, -0.75723402,  1.        ],\n",
       "       [-0.35460717,  0.62310414,  1.        ],\n",
       "       [-3.38469482, -1.29120006,  1.        ],\n",
       "       [ 0.78143889,  1.21827595,  1.        ],\n",
       "       [ 0.71212874,  1.31320013,  1.        ],\n",
       "       [-0.38783447,  0.59728367,  1.        ],\n",
       "       [-0.44077991, -0.24644047,  1.        ],\n",
       "       [ 0.18751089,  0.69475618,  1.        ],\n",
       "       [ 0.54473284,  0.89430046,  1.        ],\n",
       "       [ 0.72750599, -0.7929782 ,  1.        ],\n",
       "       [ 1.16699368,  0.85989051,  1.        ],\n",
       "       [ 0.09417166, -0.30754418,  1.        ],\n",
       "       [-1.23877979, -0.91189178,  1.        ],\n",
       "       [-0.39599304, -0.28137158,  1.        ],\n",
       "       [ 0.20987389,  1.34213866,  1.        ],\n",
       "       [ 0.22434935,  1.49166453,  1.        ],\n",
       "       [-1.27320687,  1.09197008,  1.        ],\n",
       "       [ 1.52311875, -0.89358746,  1.        ],\n",
       "       [ 1.98916312,  0.37000985,  1.        ],\n",
       "       [ 0.32564004,  0.5940151 ,  1.        ],\n",
       "       [-0.50155079, -0.41946634,  1.        ],\n",
       "       [ 0.93529895,  0.22754678,  1.        ],\n",
       "       [ 0.62437377, -0.35431592,  1.        ],\n",
       "       [ 0.02146281, -0.38249748,  1.        ],\n",
       "       [ 0.64064812, -0.44925908,  1.        ],\n",
       "       [-0.53219472, -0.54026683,  1.        ],\n",
       "       [-1.4591112 , -1.08642825,  1.        ],\n",
       "       [ 0.84627546, -0.14378593,  1.        ],\n",
       "       [-0.75623699,  0.80982714,  1.        ],\n",
       "       [ 0.18188781, -1.90966777,  1.        ],\n",
       "       [ 1.04234406, -0.51713916,  1.        ],\n",
       "       [ 0.94148738,  0.5355481 ,  1.        ],\n",
       "       [-0.82319188,  0.10136341,  1.        ],\n",
       "       [ 1.03703132,  0.77134077,  1.        ],\n",
       "       [ 0.32485964,  1.51167852,  1.        ],\n",
       "       [ 2.49112072, -0.51372358,  1.        ],\n",
       "       [ 0.51399493, -1.79815271,  1.        ],\n",
       "       [-1.27103266, -0.60081387,  1.        ],\n",
       "       [-0.17089711, -0.49548273,  1.        ],\n",
       "       [-2.05494743,  1.14340296,  1.        ],\n",
       "       [ 0.66703245,  0.20316839,  1.        ],\n",
       "       [ 0.09024647,  1.31567329,  1.        ],\n",
       "       [ 0.98877589,  0.75919882,  1.        ],\n",
       "       [ 0.76593628, -0.52780029,  1.        ],\n",
       "       [-1.02875044,  0.2211979 ,  1.        ],\n",
       "       [ 1.39118993,  0.23037262,  1.        ],\n",
       "       [-0.9035146 ,  0.57194649,  1.        ],\n",
       "       [ 0.34907553,  1.4008203 ,  1.        ],\n",
       "       [ 0.3891984 , -1.43746174,  1.        ],\n",
       "       [-0.87262552, -0.06573865,  1.        ],\n",
       "       [ 0.10210745,  2.57397236,  1.        ],\n",
       "       [-0.28143372,  0.31488776,  1.        ],\n",
       "       [ 0.9812099 ,  1.82508426,  1.        ],\n",
       "       [-2.11748002, -0.1618766 ,  1.        ],\n",
       "       [ 0.5171887 ,  1.31028015,  1.        ],\n",
       "       [-1.25426012, -0.87131876,  1.        ],\n",
       "       [ 0.65466851, -2.01935184,  1.        ],\n",
       "       [ 0.81158974, -1.39461242,  1.        ],\n",
       "       [ 0.2446258 ,  0.08223923,  1.        ],\n",
       "       [-0.67488032, -0.3506862 ,  1.        ],\n",
       "       [ 0.58029324,  0.01872918,  1.        ],\n",
       "       [-1.56399507, -0.89781402,  1.        ],\n",
       "       [-0.08033247,  0.95939774,  1.        ],\n",
       "       [-0.78673964, -0.19633338,  1.        ],\n",
       "       [-0.52323515,  0.94598398,  1.        ],\n",
       "       [-1.20134238, -2.08463458,  1.        ],\n",
       "       [-1.12673029, -0.39270728,  1.        ]])"
      ]
     },
     "execution_count": 54,
     "metadata": {},
     "output_type": "execute_result"
    }
   ],
   "source": [
    "#matrice\n",
    "#coler des 1 a x pour X\n",
    "#ajoueter x**2\n",
    "X=np.hstack((x,np.ones((x.shape[0],1))))\n",
    "X"
   ]
  },
  {
   "cell_type": "code",
   "execution_count": 55,
   "id": "17ec138e",
   "metadata": {},
   "outputs": [
    {
     "data": {
      "text/plain": [
       "array([[-17.89428542],\n",
       "       [-35.12554007],\n",
       "       [ 48.46398566]])"
      ]
     },
     "execution_count": 55,
     "metadata": {},
     "output_type": "execute_result"
    }
   ],
   "source": [
    "theta=np.random.randn(3,1)*50\n",
    "theta\n"
   ]
  },
  {
   "cell_type": "code",
   "execution_count": 56,
   "id": "dda010fe",
   "metadata": {},
   "outputs": [
    {
     "data": {
      "text/plain": [
       "array([[92.50508982, 97.33570056,  0.        ]])"
      ]
     },
     "execution_count": 56,
     "metadata": {},
     "output_type": "execute_result"
    }
   ],
   "source": [
    "from sklearn.linear_model import LinearRegression\n",
    "h=LinearRegression()\n",
    "h.fit(X,y)\n",
    "h.coef_\n",
    "\n",
    "#h.predict(X)\n"
   ]
  },
  {
   "cell_type": "code",
   "execution_count": 57,
   "id": "e0d14648",
   "metadata": {},
   "outputs": [],
   "source": [
    "def model(X,theta):\n",
    "    \n",
    "    return X.dot(theta)\n",
    "    "
   ]
  },
  {
   "cell_type": "code",
   "execution_count": 95,
   "id": "ea201adf",
   "metadata": {},
   "outputs": [
    {
     "data": {
      "text/plain": [
       "<matplotlib.collections.PathCollection at 0x1fe092edf70>"
      ]
     },
     "execution_count": 95,
     "metadata": {},
     "output_type": "execute_result"
    },
    {
     "data": {
      "image/png": "[encoded data removed]",
      "text/plain": [
       "<Figure size 432x288 with 1 Axes>"
      ]
     },
     "metadata": {
      "needs_background": "light"
     },
     "output_type": "display_data"
    }
   ],
   "source": [
    "#test\n",
    "#plt.plot(x,model(X,theta),\"r\")\n",
    "plt.scatter(x[:,0], model(X,theta), c='coral')\n",
    "plt.scatter(x[:,1],y)"
   ]
  },
  {
   "cell_type": "code",
   "execution_count": 59,
   "id": "628828e3",
   "metadata": {},
   "outputs": [],
   "source": [
    "#fonction cout"
   ]
  },
  {
   "cell_type": "code",
   "execution_count": 60,
   "id": "98d2a6a1",
   "metadata": {},
   "outputs": [],
   "source": [
    "def cost_fct(X,y,theta):\n",
    "    m=len(y)\n",
    "    return 1/(2*m)* np.sum((model(X,theta)-y)**2)"
   ]
  },
  {
   "cell_type": "code",
   "execution_count": 61,
   "id": "00bd66c5",
   "metadata": {},
   "outputs": [
    {
     "data": {
      "text/plain": [
       "18738.916898087675"
      ]
     },
     "execution_count": 61,
     "metadata": {},
     "output_type": "execute_result"
    }
   ],
   "source": [
    "cost_fct(X,y,theta)"
   ]
  },
  {
   "cell_type": "code",
   "execution_count": 62,
   "id": "3565638d",
   "metadata": {},
   "outputs": [],
   "source": [
    "#solution satistifaisante\n",
    "def coef_deter(y,pred):\n",
    "    u=((y-pred)**2).sum()\n",
    "    v=((y-y.mean())**2).sum()\n",
    "    return 1-u/v\n",
    "\n",
    "def satisfaisante(y,pred):\n",
    "    if(coef_deter(y,pred)<=1 and coef_deter(y,pred)>=0.5):\n",
    "        return 1\n",
    "    else:\n",
    "        return 0"
   ]
  },
  {
   "cell_type": "code",
   "execution_count": null,
   "id": "48a6446f",
   "metadata": {},
   "outputs": [],
   "source": []
  },
  {
   "cell_type": "code",
   "execution_count": null,
   "id": "82235712",
   "metadata": {},
   "outputs": [],
   "source": []
  },
  {
   "cell_type": "code",
   "execution_count": 96,
   "id": "7301b26a",
   "metadata": {},
   "outputs": [],
   "source": [
    "#in individu c'est la solution pour donc contient les Bi et la valeur de la fonction cout de la solution\n",
    "class Individu:\n",
    "     def __init__(self, solution):\n",
    "        self.solution = solution\n",
    "        self.fitness_value = 0\n",
    "    \n",
    "     def __str__(self):\n",
    "        return \"solution\"+self.solution\n",
    "        "
   ]
  },
  {
   "cell_type": "code",
   "execution_count": 97,
   "id": "6e906999",
   "metadata": {},
   "outputs": [],
   "source": [
    "#generate individu\n",
    "def gen_ind():\n",
    "    ind=Individu(np.random.randn(3,1)*50)\n",
    "    return ind\n"
   ]
  },
  {
   "cell_type": "code",
   "execution_count": 65,
   "id": "75ba69e7",
   "metadata": {},
   "outputs": [],
   "source": [
    "#generate population size n \n",
    "def gen_pop(n):\n",
    "    return [gen_ind() for _ in range(n)]\n",
    "\n"
   ]
  },
  {
   "cell_type": "code",
   "execution_count": 66,
   "id": "2bead1e9",
   "metadata": {},
   "outputs": [],
   "source": [
    "#selection par tournoi \n",
    "#j'ai fais un choix arbitraire. l'algorithme retourne d'une maniere alèatoire la population à croiser\n",
    "def selection(pop,taille):\n",
    "    best=pop[random.randint(0,len(pop)-1)]\n",
    "    for i in range (taille):\n",
    "        nextp=pop[random.randint(0,len(pop)-1)]\n",
    "        if(cost_fct(X,y,best.solution)>cost_fct(X,y,nextp.solution)):\n",
    "            best=nextp\n",
    "    return best"
   ]
  },
  {
   "cell_type": "code",
   "execution_count": 98,
   "id": "37398c11",
   "metadata": {},
   "outputs": [],
   "source": [
    "#cross over\n",
    "#croisement\n",
    "def cross_over(ind1,ind2):\n",
    "    c=random.randint(0,len(ind1.solution)-1) #generation de manière aléatoire le point de croisement\n",
    "    #echange de coefficients\n",
    "    for i in range(c):\n",
    "        temp=ind1.solution[i,0]\n",
    "        ind1.solution[i,0]=ind2.solution[i,0]\n",
    "        ind2.solution[i,0]=temp\n",
    "    return ind1,ind2\n",
    "    \n",
    "    \n",
    "    "
   ]
  },
  {
   "cell_type": "code",
   "execution_count": 99,
   "id": "4052e869",
   "metadata": {},
   "outputs": [],
   "source": [
    "#mutation\n",
    "def mutation(ind,proba):\n",
    "    for i in range(len(ind)-1):\n",
    "        if(random.random()<proba):\n",
    "            ind[i]=1-ind[i]\n",
    "    return ind"
   ]
  },
  {
   "cell_type": "code",
   "execution_count": 101,
   "id": "2effa6ca",
   "metadata": {},
   "outputs": [],
   "source": [
    "def genetic_algo(x,y,theta,popsize,n,n_max):\n",
    "    best=theta\n",
    "    n_iterations=0\n",
    "    #pop initial\n",
    "    pop=gen_pop(popsize)\n",
    "    Q=[]\n",
    "    while( satisfaisante(y,model(x,best))==False ):\n",
    "        n_iterations+=1\n",
    "        if(n_iterations>n_max):\n",
    "            break\n",
    "        for ind in pop:\n",
    "            ind.fitness_value=cost_fct(x,y,ind.solution)\n",
    "        #trier\n",
    "            \n",
    "        pop.sort(key=lambda x: x.fitness_value)\n",
    "            \n",
    "        if(  cost_fct(x,y,pop[0].solution)< cost_fct(x,y,best)):\n",
    "            best=pop[0].solution\n",
    "            print(\"///\")\n",
    "            print(best)\n",
    "        #selection des n meilleurs parents \n",
    "        Q=pop[:n]\n",
    "        \n",
    "       \n",
    "        #cross over\n",
    "        \n",
    "        for i in range(int((len(pop)-n)/2)):\n",
    "            pa=selection(pop,2)\n",
    "            pb=selection(pop,2)\n",
    "            ind1,ind2=cross_over(pa,pb)\n",
    "            Q.append(ind1)\n",
    "            Q.append(ind2)\n",
    " \n",
    "\n",
    "            \n",
    "        P=Q\n",
    "    return best\n",
    "    \n",
    "            \n",
    "        \n",
    "            \n",
    "            \n",
    "        \n",
    "        \n",
    "        \n",
    "        \n",
    "        \n",
    "    \n",
    "    \n",
    "    "
   ]
  },
  {
   "cell_type": "code",
   "execution_count": null,
   "id": "cf239d38",
   "metadata": {},
   "outputs": [],
   "source": []
  },
  {
   "cell_type": "code",
   "execution_count": 102,
   "id": "095f81a5",
   "metadata": {},
   "outputs": [
    {
     "name": "stdout",
     "output_type": "stream",
     "text": [
      "///\n",
      "[[94.07932388]\n",
      " [64.30312454]\n",
      " [39.02750193]]\n",
      "ok\n",
      "[[94.07932388]\n",
      " [64.30312454]\n",
      " [39.02750193]]\n"
     ]
    }
   ],
   "source": [
    "#Recupreation de la meilleure solution des bi\n",
    "best=genetic_algo(X,y,theta,100,50,10) \n",
    "print(\"ok\")\n",
    "print(best)\n"
   ]
  },
  {
   "cell_type": "code",
   "execution_count": null,
   "id": "9cc02da3",
   "metadata": {},
   "outputs": [],
   "source": []
  },
  {
   "cell_type": "code",
   "execution_count": 103,
   "id": "a808cbb5",
   "metadata": {},
   "outputs": [
    {
     "data": {
      "text/plain": [
       "array([[94.07932388],\n",
       "       [64.30312454],\n",
       "       [39.02750193]])"
      ]
     },
     "execution_count": 103,
     "metadata": {},
     "output_type": "execute_result"
    }
   ],
   "source": [
    "theta_final=best\n",
    "theta_final"
   ]
  },
  {
   "cell_type": "code",
   "execution_count": 104,
   "id": "08918bf8",
   "metadata": {},
   "outputs": [
    {
     "data": {
      "text/plain": [
       "<matplotlib.collections.PathCollection at 0x1fe0934d640>"
      ]
     },
     "execution_count": 104,
     "metadata": {},
     "output_type": "execute_result"
    },
    {
     "data": {
      "image/png": "[encoded data removed]",
      "text/plain": [
       "<Figure size 432x288 with 1 Axes>"
      ]
     },
     "metadata": {
      "needs_background": "light"
     },
     "output_type": "display_data"
    }
   ],
   "source": [
    "#test\n",
    "#plt.plot(x,model(X,theta_final),\"r\")\n",
    "plt.scatter(x[:,0], model(X,theta_final), c='coral')\n",
    "plt.scatter(x[:,0],y)"
   ]
  },
  {
   "cell_type": "code",
   "execution_count": 105,
   "id": "5fd5bb17",
   "metadata": {},
   "outputs": [
    {
     "name": "stdout",
     "output_type": "stream",
     "text": [
      "///\n",
      "[[69.9359589 ]\n",
      " [86.25231419]\n",
      " [ 0.57079083]]\n",
      "///\n",
      "[[ 80.76968102]\n",
      " [ 96.61629674]\n",
      " [-31.74625214]]\n",
      "ok\n",
      "[[ 80.76968102]\n",
      " [ 96.61629674]\n",
      " [-31.74625214]]\n"
     ]
    }
   ],
   "source": [
    "#changement de variable\n",
    "#ML produire theta\n",
    "best=genetic_algo(X,y,theta,1000,500,10)\n",
    "print(\"ok\")\n",
    "print(best)\n"
   ]
  },
  {
   "cell_type": "code",
   "execution_count": 106,
   "id": "2fcd70ff",
   "metadata": {},
   "outputs": [
    {
     "data": {
      "text/plain": [
       "<matplotlib.collections.PathCollection at 0x1fe093d87c0>"
      ]
     },
     "execution_count": 106,
     "metadata": {},
     "output_type": "execute_result"
    },
    {
     "data": {
      "image/png": "[encoded data removed]",
      "text/plain": [
       "<Figure size 432x288 with 1 Axes>"
      ]
     },
     "metadata": {
      "needs_background": "light"
     },
     "output_type": "display_data"
    }
   ],
   "source": [
    "#test\n",
    "#plt.plot(x,model(X,theta_final),\"r\")\n",
    "plt.scatter(x[:,0], model(X,theta_final), c='coral')\n",
    "plt.scatter(x[:,0],y)"
   ]
  },
  {
   "cell_type": "code",
   "execution_count": 107,
   "id": "63b33e2b",
   "metadata": {},
   "outputs": [
    {
     "name": "stderr",
     "output_type": "stream",
     "text": [
      "<ipython-input-107-f4362815673b>:3: MatplotlibDeprecationWarning: Adding an axes using the same arguments as a previous axes currently reuses the earlier instance.  In a future version, a new instance will always be created and returned.  Meanwhile, this warning can be suppressed, and the future behavior ensured, by passing a unique label to each axes instance.\n",
      "  ax = plt.axes(projection = '3d')\n"
     ]
    },
    {
     "data": {
      "text/plain": [
       "<mpl_toolkits.mplot3d.art3d.Path3DCollection at 0x1fe09487f40>"
      ]
     },
     "execution_count": 107,
     "metadata": {},
     "output_type": "execute_result"
    },
    {
     "data": {
      "image/png": "[encoded data removed]",
      "text/plain": [
       "<Figure size 432x288 with 1 Axes>"
      ]
     },
     "metadata": {
      "needs_background": "light"
     },
     "output_type": "display_data"
    }
   ],
   "source": [
    "plt.scatter(x[:,0],model(X,theta_final))\n",
    "#plt.plot(x[:,0],Y,\"r\")\n",
    "ax = plt.axes(projection = '3d')\n",
    "ax.scatter3D(x[:,0],x[:,1],model(X,theta_final))\n",
    "#ax2 = plt.axes(projection = '3d')\n",
    "ax.scatter3D(x[:,0],x[:,1],y,\"r\")"
   ]
  },
  {
   "cell_type": "code",
   "execution_count": null,
   "id": "613c2884",
   "metadata": {},
   "outputs": [],
   "source": []
  },
  {
   "cell_type": "code",
   "execution_count": null,
   "id": "59dac255",
   "metadata": {},
   "outputs": [],
   "source": []
  },
  {
   "cell_type": "code",
   "execution_count": null,
   "id": "d0bc725e",
   "metadata": {},
   "outputs": [],
   "source": []
  },
  {
   "cell_type": "code",
   "execution_count": null,
   "id": "8752acd9",
   "metadata": {},
   "outputs": [],
   "source": []
  },
  {
   "cell_type": "code",
   "execution_count": null,
   "id": "5a99323c",
   "metadata": {},
   "outputs": [],
   "source": []
  },
  {
   "cell_type": "code",
   "execution_count": null,
   "id": "adba2d35",
   "metadata": {},
   "outputs": [],
   "source": []
  }
 ],
 "metadata": {
  "kernelspec": {
   "display_name": "Python 3",
   "language": "python",
   "name": "python3"
  },
  "language_info": {
   "codemirror_mode": {
    "name": "ipython",
    "version": 3
   },
   "file_extension": ".py",
   "mimetype": "text/x-python",
   "name": "python",
   "nbconvert_exporter": "python",
   "pygments_lexer": "ipython3",
   "version": "3.8.8"
  }
 },
 "nbformat": 4,
 "nbformat_minor": 5
}
