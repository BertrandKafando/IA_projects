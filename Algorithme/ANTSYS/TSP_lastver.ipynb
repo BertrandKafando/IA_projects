{
 "cells": [
  {
   "cell_type": "code",
   "execution_count": 8,
   "id": "6f6848ab",
   "metadata": {
    "id": "6f6848ab"
   },
   "outputs": [],
   "source": [
    "import numpy as np\n",
    "from random import seed \n",
    "from random import random\n",
    "from random import sample\n",
    "from typing import List\n",
    "import math"
   ]
  },
  {
   "cell_type": "code",
   "execution_count": 9,
   "id": "109c810d",
   "metadata": {
    "id": "109c810d"
   },
   "outputs": [],
   "source": [
    "# initialisation\n",
    "Q = 100 # cte\n",
    "n = 10 # nombre de ville\n",
    "m = n #nombre de fourmis\n",
    "C = 0.001 # qté de pheromone initiale\n",
    "RO = 0.5 # coefficient d'evaporation\n",
    "ALPHA = 5#cte\n",
    "BETA = 1#cte\n",
    "NCmax = 1000 #nbreaximale d'itération"
   ]
  },
  {
   "cell_type": "code",
   "execution_count": 10,
   "id": "53828e9b",
   "metadata": {
    "id": "53828e9b"
   },
   "outputs": [],
   "source": [
    "# class ant\n",
    "class Ant:\n",
    "    allvilles = [i for i in range(n)]\n",
    "    \n",
    "    def __init__(self,current_ville):\n",
    "        self.current_ville = current_ville\n",
    "        self.visited_villes = []*0\n",
    "    \n",
    "    def get_currentVille(self):\n",
    "        return self.current_ville\n",
    "    \n",
    "    def get_visitedVilles(self):\n",
    "        return self.visited_villes\n",
    "    \n",
    "    def addVille(self,ville):\n",
    "        self.visited_villes.append(ville)\n",
    "        \n",
    "    def move(self,ville):\n",
    "        self.current_ville=ville\n",
    "        self.visited_villes.append(ville)\n"
   ]
  },
  {
   "cell_type": "code",
   "execution_count": 11,
   "id": "ed23b227",
   "metadata": {
    "id": "ed23b227"
   },
   "outputs": [],
   "source": [
    "# list of ants\n",
    "ants = []\n",
    "# intitialisation des phéromones\n",
    "pheromone = []\n",
    "\n",
    "#mat n*n\n",
    "for i in range(n):\n",
    "    pe = []\n",
    "    for j in range(n):\n",
    "        pe.append(C)\n",
    "    pheromone.append(pe)\n",
    "    \n",
    "\n",
    "# coordonnées des villes\n",
    "def generatevilles(n):\n",
    "    LV = []\n",
    "    seed(1)\n",
    "    for i in range(n):\n",
    "        x = random()*2000\n",
    "        y = random()*2000\n",
    "        LV.append([x,y])\n",
    "    LV=np.array(LV)\n",
    "    return LV\n",
    "\n",
    "# distances entre les villes\n",
    "def calculateDistances(L):\n",
    "    D = []\n",
    "    #boucle imbriquée\n",
    "    for i in range(n):\n",
    "        dLine = []\n",
    "        for j in range(n):\n",
    "            x = L[i][0] - L[j][0]\n",
    "            y = L[i][1] - L[j][1]\n",
    "            dLine.append(math.sqrt(pow(x,2)+pow(y,2)))\n",
    "        D.append(dLine)\n",
    "    return D\n",
    "\n",
    "\n",
    "# distribution des fourmies entre les villes\n",
    "def distributeAnts(ants : []):\n",
    "    #generate list of ints non ordonée\n",
    "    smpl = sample(range(n),n)\n",
    "    for i in range(n) : \n",
    "        ant = Ant(smpl[i])\n",
    "        ant.addVille(smpl[i])\n",
    "        ants.append(ant)\n",
    "    return\n",
    "\n",
    "\n",
    "\n",
    "# visibilité  a revoir\n",
    "def claculateVisibilite(L):\n",
    "    V = []\n",
    "    for i in range(n):\n",
    "        dLine = []\n",
    "        for j in range(n):\n",
    "            x = L[i][0] - L[j][0]\n",
    "            y = L[i][1] - L[j][1]\n",
    "            dis = math.sqrt(pow(x,2)+pow(y,2))\n",
    "            if dis == 0:\n",
    "                dLine.append(0)\n",
    "            else : \n",
    "                dLine.append(1/dis)\n",
    "        V.append(dLine)\n",
    "    return V\n",
    "    \n",
    "\n",
    "villes =  generatevilles(n)\n",
    "  \n",
    "distances = calculateDistances(villes)\n",
    "\n",
    "visibilite = claculateVisibilite(villes)\n",
    "\n",
    "distributeAnts(ants)\n",
    "#villes\n"
   ]
  },
  {
   "cell_type": "code",
   "execution_count": 13,
   "id": "46ba45fa",
   "metadata": {},
   "outputs": [
    {
     "data": {
      "image/png": "[encoded data removed]",
      "text/plain": [
       "<Figure size 432x288 with 1 Axes>"
      ]
     },
     "metadata": {
      "needs_background": "light"
     },
     "output_type": "display_data"
    }
   ],
   "source": [
    "import matplotlib.pyplot as plt\n",
    "\n",
    "\n",
    "plt.scatter(villes[:,0],villes[:,1], marker='o', s=50)\n",
    "\n",
    "# Plot properties\n",
    "plt.title(\"VILLES\")\n",
    "plt.grid()\n",
    "plt.xlabel('Latitude')\n",
    "plt.ylabel('Longitude')\n",
    "\n",
    "# Show plot\n",
    "plt.show()\n",
    "plt.close()"
   ]
  },
  {
   "cell_type": "code",
   "execution_count": 14,
   "id": "71fa21a6",
   "metadata": {
    "id": "71fa21a6"
   },
   "outputs": [],
   "source": [
    "# opération sur les fourmies\n",
    "#somme des visibilités et pheromones\n",
    "\n",
    "def sommePherVis(Phero,Vis,alpha,beta,ant:Ant):\n",
    "    somme = 0\n",
    "    noneVisitedCities = set(ant.allvilles).difference(set(ant.get_visitedVilles()))\n",
    "    noneVisitedCities = list(noneVisitedCities)\n",
    "    for i in range(len(noneVisitedCities)):\n",
    "        somme = somme+ (pow(Phero[ant.get_currentVille()][noneVisitedCities[i]],alpha))*(pow(Vis[ant.get_currentVille()][noneVisitedCities[i]],beta))\n",
    "    return somme\n",
    "    \n",
    "# probabilité\n",
    "def probabilites(Phero, Vis, alpha,beta,ant:Ant):\n",
    "    probas = []\n",
    "    # vlls sont les villes pas encore parcourus\n",
    "    vlls = list(set(ant.allvilles).difference(set(ant.get_visitedVilles())))\n",
    "    denominateur = sommePherVis(pheromone,claculateVisibilite(villes),ALPHA,BETA,ant)\n",
    "    for i in range(len(vlls)):\n",
    "        p = (pow(Phero[ant.get_currentVille()][vlls[i]],alpha))*(pow(Vis[ant.get_currentVille()][vlls[i]],beta))/denominateur\n",
    "        \n",
    "        probas.append(p)\n",
    "    return probas\n",
    "\n",
    " # on retourne l'indice de la proba maximale\n",
    "# best ville\n",
    "def villeMaxProba(Pher, Vis, alpha,beta,ant:Ant):\n",
    "    p = probabilites(Pher, Vis, alpha,beta,ant)\n",
    "    max_index = np.argmax(p)\n",
    "    # list des villes non encore visitée\n",
    "    vlls = list(set(ant.allvilles).difference(set(ant.get_visitedVilles())))\n",
    "    return vlls[max_index]"
   ]
  },
  {
   "cell_type": "code",
   "execution_count": 15,
   "id": "a4da182f",
   "metadata": {
    "id": "a4da182f"
   },
   "outputs": [],
   "source": [
    "# Moving Ants\n",
    "# Cycle 1 :\n",
    "def moveAntOnce(ants: [],Pher, Vis, alpha,beta):\n",
    "    for i in range(n):\n",
    "        ville = villeMaxProba(Pher, Vis, alpha,beta,ants[i])\n",
    "        ants[i].move(ville)\n",
    "    \n",
    "\n",
    "# mise à jour des pheromones\n",
    "def evaporation(Pher,ro):\n",
    "    phern=[]\n",
    "    for i in range(n):\n",
    "        pe = []\n",
    "        for j in range(n):\n",
    "            pe.append(Pher[i][j]*ro)\n",
    "        phern.append(pe)\n",
    "    return phern\n",
    "\n",
    "def longueurTrajet(ant : Ant,distances):\n",
    "    l = 0\n",
    "    for i in range(len(ant.get_visitedVilles())-1):\n",
    "        l += distances[ant.get_visitedVilles()[i]][ant.get_visitedVilles()[i+1]]\n",
    "    l += distances[ant.get_visitedVilles()[0]][ant.get_visitedVilles()[len(ant.get_visitedVilles())-1]] \n",
    "    return l\n",
    "\n",
    "def updatePheromone(ants:[], Pher, ro,distances): \n",
    "    Pher = evaporation(Pher,ro)\n",
    "    for i in range(m):\n",
    "        L = longueurTrajet(ants[i],distances)\n",
    "        newPher = Q / L\n",
    "        for k in range(len(ants[i].get_visitedVilles())-1):\n",
    "            Pher[ants[i].get_visitedVilles()[k]][ants[i].get_visitedVilles()[k+1]] += newPher\n",
    "            Pher[ants[i].get_visitedVilles()[k+1]][ants[i].get_visitedVilles()[k]] += newPher\n",
    "            \n",
    "        Pher[ants[i].get_visitedVilles()[0]][ants[i].get_visitedVilles()[len(ants[i].get_visitedVilles())-1]] += newPher\n",
    "        Pher[ants[i].get_visitedVilles()[len(ants[i].get_visitedVilles())-1]][ants[i].get_visitedVilles()[0]] += newPher\n",
    "    return Pher\n",
    "\n",
    "        \n",
    "\n",
    "\n",
    "\n",
    "    \n",
    "\n"
   ]
  },
  {
   "cell_type": "code",
   "execution_count": 16,
   "id": "a27d1ce5",
   "metadata": {
    "colab": {
     "base_uri": "https://localhost:8080/",
     "height": 352
    },
    "id": "a27d1ce5",
    "outputId": "ef14fbca-faf0-40c7-d751-b0b06e300ad1"
   },
   "outputs": [
    {
     "name": "stdout",
     "output_type": "stream",
     "text": [
      "[9, 6, 4, 0, 8, 3, 7, 2, 1, 5]\n",
      "[8, 0, 4, 6, 9, 5, 1, 2, 7, 3]\n",
      "[5, 1, 2, 7, 3, 8, 0, 4, 6, 9]\n",
      "[0, 8, 3, 7, 2, 1, 5, 9, 6, 4]\n",
      "[6, 9, 5, 1, 2, 7, 3, 8, 0, 4]\n",
      "[1, 5, 9, 6, 4, 0, 8, 3, 7, 2]\n",
      "[3, 7, 2, 1, 5, 9, 6, 4, 0, 8]\n",
      "[7, 3, 8, 0, 4, 6, 9, 5, 1, 2]\n",
      "[4, 6, 9, 5, 1, 2, 7, 3, 8, 0]\n",
      "[2, 7, 3, 8, 0, 4, 6, 9, 5, 1]\n"
     ]
    }
   ],
   "source": [
    "#our main program func   \n",
    "def moveAnts(ants : [],Pher , Vis , alpha , beta , ro , distances):\n",
    "    for k in range(NCmax):\n",
    "        #initialise la liste des fourmies à chaque itération\n",
    "        ants = []\n",
    "        distributeAnts(ants)\n",
    "        for i in range(n-1):\n",
    "            moveAntOnce(ants,Pher, Vis, alpha,beta)\n",
    "        Pher = updatePheromone(ants,Pher, ro,distances)\n",
    "    for i in range(m):\n",
    "        print(ants[i].get_visitedVilles())\n",
    "    return ants\n",
    "    \n",
    "ants = moveAnts(ants,pheromone,visibilite,ALPHA,BETA,RO,distances)"
   ]
  },
  {
   "cell_type": "code",
   "execution_count": 17,
   "id": "69aa049a",
   "metadata": {
    "id": "69aa049a"
   },
   "outputs": [],
   "source": [
    "# chemins \n",
    "chemins = []\n",
    "for i in range(m-1):\n",
    "    chemins.append(ants[i].get_visitedVilles())\n",
    "chemins\n",
    "def get_distance(v1,v2):\n",
    "    return distances[v1][v2]\n",
    "\n",
    "def calculate_best(chemins):\n",
    "    couts=[]\n",
    "    for chemin in chemins:\n",
    "        cout = 0\n",
    "        for i in range(n-1):\n",
    "            cout += distances[chemin[i]][chemin[i+1]]\n",
    "        cout+= distances[chemin[0]][chemin[n-1]]\n",
    "        couts.append(cout)\n",
    "    return { \n",
    "                \"chemin\" : chemins[np.argmin(couts)],\n",
    "                \"cout\" : couts[np.argmin(couts)]\n",
    "           }\n",
    "\n",
    "best = calculate_best(chemins)"
   ]
  },
  {
   "cell_type": "code",
   "execution_count": 19,
   "id": "a0ce379a",
   "metadata": {},
   "outputs": [
    {
     "data": {
      "image/png": "[encoded data removed]",
      "text/plain": [
       "<Figure size 432x288 with 1 Axes>"
      ]
     },
     "metadata": {
      "needs_background": "light"
     },
     "output_type": "display_data"
    }
   ],
   "source": [
    "import matplotlib.pyplot as plt\n",
    "\n",
    "\n",
    "plt.scatter(villes[:,0],villes[:,1], marker='o', s=50)\n",
    "\n",
    "# Plot properties\n",
    "plt.title(\"VILLES\")\n",
    "plt.grid()\n",
    "plt.xlabel('Latitude')\n",
    "plt.ylabel('Longitude')\n",
    "\n",
    "# Show plot\n",
    "plt.show()\n",
    "plt.close()"
   ]
  },
  {
   "cell_type": "code",
   "execution_count": 18,
   "id": "bb9fa49c",
   "metadata": {
    "id": "bb9fa49c"
   },
   "outputs": [
    {
     "data": {
      "image/png": "[encoded data removed]",
      "text/plain": [
       "<Figure size 432x288 with 1 Axes>"
      ]
     },
     "metadata": {
      "needs_background": "light"
     },
     "output_type": "display_data"
    }
   ],
   "source": [
    "import matplotlib.pyplot as plt\n",
    "# Plot nodes\n",
    "ch = best[\"chemin\"].copy()\n",
    "ch.append(best[\"chemin\"][0])\n",
    "\n",
    "\n",
    "plt.scatter(villes[:,0],villes[:,1], marker='o', s=50)\n",
    "plt.plot(villes[ch, 0], villes[ch, 1], c='g', linewidth=0.8, linestyle=\"--\")\n",
    "\n",
    "# Plot properties\n",
    "plt.title(\"VILLES\")\n",
    "plt.suptitle(\"Cout : \"+str(best['cout']))\n",
    "plt.grid()\n",
    "plt.xlabel('Latitude')\n",
    "plt.ylabel('Longitude')\n",
    "\n",
    "# Show plot\n",
    "plt.show()\n",
    "plt.close()"
   ]
  },
  {
   "cell_type": "code",
   "execution_count": null,
   "id": "a113e311",
   "metadata": {
    "id": "a113e311",
    "outputId": "70d252b8-962e-4d2f-b90b-61cd84c30eac"
   },
   "outputs": [],
   "source": []
  },
  {
   "cell_type": "code",
   "execution_count": null,
   "id": "4311dd81",
   "metadata": {
    "id": "4311dd81"
   },
   "outputs": [],
   "source": []
  }
 ],
 "metadata": {
  "colab": {
   "name": "TSP.ipynb",
   "provenance": []
  },
  "kernelspec": {
   "display_name": "Python 3",
   "language": "python",
   "name": "python3"
  },
  "language_info": {
   "codemirror_mode": {
    "name": "ipython",
    "version": 3
   },
   "file_extension": ".py",
   "mimetype": "text/x-python",
   "name": "python",
   "nbconvert_exporter": "python",
   "pygments_lexer": "ipython3",
   "version": "3.8.8"
  }
 },
 "nbformat": 4,
 "nbformat_minor": 5
}
