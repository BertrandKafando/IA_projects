{
 "cells": [
  {
   "cell_type": "code",
   "execution_count": 1,
   "id": "8cd654ff",
   "metadata": {},
   "outputs": [],
   "source": [
    "###firt model (Y=3X+1)"
   ]
  },
  {
   "cell_type": "code",
   "execution_count": 2,
   "id": "e6e60e87",
   "metadata": {},
   "outputs": [],
   "source": [
    "import tensorflow as tf\n",
    "import numpy as np\n",
    "from tensorflow import keras"
   ]
  },
  {
   "cell_type": "code",
   "execution_count": 3,
   "id": "36bdb4e9",
   "metadata": {},
   "outputs": [],
   "source": [
    "model = tf.keras.Sequential([keras.layers.Dense(units=1, input_shape=[1])])"
   ]
  },
  {
   "cell_type": "code",
   "execution_count": 4,
   "id": "aaf229dd",
   "metadata": {},
   "outputs": [],
   "source": [
    "#loss et optimiser\n",
    "model.compile(optimizer='sgd', loss='mean_squared_error')"
   ]
  },
  {
   "cell_type": "code",
   "execution_count": 5,
   "id": "b88dd8f7",
   "metadata": {},
   "outputs": [],
   "source": [
    "xs = np.array([-1.0, 0.0, 1.0, 2.0, 3.0, 4.0], dtype=float)\n",
    "ys = np.array([-2.0, 1.0, 4.0, 7.0, 10.0, 13.0], dtype=float)\n"
   ]
  },
  {
   "cell_type": "code",
   "execution_count": 6,
   "id": "d9c5ec41",
   "metadata": {},
   "outputs": [
    {
     "name": "stdout",
     "output_type": "stream",
     "text": [
      "Epoch 1/60\n",
      "1/1 [==============================] - 1s 642ms/step - loss: 20.8495\n",
      "Epoch 2/60\n",
      "1/1 [==============================] - 0s 4ms/step - loss: 16.4220\n",
      "Epoch 3/60\n",
      "1/1 [==============================] - 0s 3ms/step - loss: 12.9383\n",
      "Epoch 4/60\n",
      "1/1 [==============================] - 0s 4ms/step - loss: 10.1971\n",
      "Epoch 5/60\n",
      "1/1 [==============================] - 0s 5ms/step - loss: 8.0400\n",
      "Epoch 6/60\n",
      "1/1 [==============================] - 0s 4ms/step - loss: 6.3427\n",
      "Epoch 7/60\n",
      "1/1 [==============================] - 0s 4ms/step - loss: 5.0069\n",
      "Epoch 8/60\n",
      "1/1 [==============================] - 0s 3ms/step - loss: 3.9556\n",
      "Epoch 9/60\n",
      "1/1 [==============================] - 0s 7ms/step - loss: 3.1282\n",
      "Epoch 10/60\n",
      "1/1 [==============================] - 0s 5ms/step - loss: 2.4769\n",
      "Epoch 11/60\n",
      "1/1 [==============================] - 0s 4ms/step - loss: 1.9641\n",
      "Epoch 12/60\n",
      "1/1 [==============================] - 0s 9ms/step - loss: 1.5604\n",
      "Epoch 13/60\n",
      "1/1 [==============================] - 0s 5ms/step - loss: 1.2425\n",
      "Epoch 14/60\n",
      "1/1 [==============================] - 0s 4ms/step - loss: 0.9920\n",
      "Epoch 15/60\n",
      "1/1 [==============================] - 0s 4ms/step - loss: 0.7947\n",
      "Epoch 16/60\n",
      "1/1 [==============================] - 0s 6ms/step - loss: 0.6391\n",
      "Epoch 17/60\n",
      "1/1 [==============================] - 0s 4ms/step - loss: 0.5165\n",
      "Epoch 18/60\n",
      "1/1 [==============================] - 0s 5ms/step - loss: 0.4197\n",
      "Epoch 19/60\n",
      "1/1 [==============================] - 0s 4ms/step - loss: 0.3433\n",
      "Epoch 20/60\n",
      "1/1 [==============================] - 0s 3ms/step - loss: 0.2829\n",
      "Epoch 21/60\n",
      "1/1 [==============================] - 0s 6ms/step - loss: 0.2351\n",
      "Epoch 22/60\n",
      "1/1 [==============================] - 0s 4ms/step - loss: 0.1973\n",
      "Epoch 23/60\n",
      "1/1 [==============================] - 0s 4ms/step - loss: 0.1672\n",
      "Epoch 24/60\n",
      "1/1 [==============================] - 0s 4ms/step - loss: 0.1434\n",
      "Epoch 25/60\n",
      "1/1 [==============================] - 0s 3ms/step - loss: 0.1243\n",
      "Epoch 26/60\n",
      "1/1 [==============================] - 0s 4ms/step - loss: 0.1091\n",
      "Epoch 27/60\n",
      "1/1 [==============================] - 0s 5ms/step - loss: 0.0969\n",
      "Epoch 28/60\n",
      "1/1 [==============================] - 0s 3ms/step - loss: 0.0871\n",
      "Epoch 29/60\n",
      "1/1 [==============================] - 0s 5ms/step - loss: 0.0792\n",
      "Epoch 30/60\n",
      "1/1 [==============================] - 0s 8ms/step - loss: 0.0727\n",
      "Epoch 31/60\n",
      "1/1 [==============================] - 0s 9ms/step - loss: 0.0674\n",
      "Epoch 32/60\n",
      "1/1 [==============================] - 0s 4ms/step - loss: 0.0630\n",
      "Epoch 33/60\n",
      "1/1 [==============================] - 0s 6ms/step - loss: 0.0594\n",
      "Epoch 34/60\n",
      "1/1 [==============================] - 0s 4ms/step - loss: 0.0563\n",
      "Epoch 35/60\n",
      "1/1 [==============================] - 0s 5ms/step - loss: 0.0537\n",
      "Epoch 36/60\n",
      "1/1 [==============================] - 0s 4ms/step - loss: 0.0514\n",
      "Epoch 37/60\n",
      "1/1 [==============================] - 0s 4ms/step - loss: 0.0494\n",
      "Epoch 38/60\n",
      "1/1 [==============================] - 0s 5ms/step - loss: 0.0477\n",
      "Epoch 39/60\n",
      "1/1 [==============================] - 0s 5ms/step - loss: 0.0462\n",
      "Epoch 40/60\n",
      "1/1 [==============================] - 0s 5ms/step - loss: 0.0448\n",
      "Epoch 41/60\n",
      "1/1 [==============================] - 0s 7ms/step - loss: 0.0435\n",
      "Epoch 42/60\n",
      "1/1 [==============================] - 0s 4ms/step - loss: 0.0424\n",
      "Epoch 43/60\n",
      "1/1 [==============================] - 0s 6ms/step - loss: 0.0413\n",
      "Epoch 44/60\n",
      "1/1 [==============================] - 0s 4ms/step - loss: 0.0403\n",
      "Epoch 45/60\n",
      "1/1 [==============================] - 0s 5ms/step - loss: 0.0393\n",
      "Epoch 46/60\n",
      "1/1 [==============================] - 0s 3ms/step - loss: 0.0384\n",
      "Epoch 47/60\n",
      "1/1 [==============================] - 0s 4ms/step - loss: 0.0375\n",
      "Epoch 48/60\n",
      "1/1 [==============================] - 0s 6ms/step - loss: 0.0367\n",
      "Epoch 49/60\n",
      "1/1 [==============================] - 0s 4ms/step - loss: 0.0359\n",
      "Epoch 50/60\n",
      "1/1 [==============================] - 0s 4ms/step - loss: 0.0351\n",
      "Epoch 51/60\n",
      "1/1 [==============================] - 0s 4ms/step - loss: 0.0343\n",
      "Epoch 52/60\n",
      "1/1 [==============================] - 0s 4ms/step - loss: 0.0336\n",
      "Epoch 53/60\n",
      "1/1 [==============================] - 0s 6ms/step - loss: 0.0329\n",
      "Epoch 54/60\n",
      "1/1 [==============================] - 0s 4ms/step - loss: 0.0322\n",
      "Epoch 55/60\n",
      "1/1 [==============================] - 0s 4ms/step - loss: 0.0315\n",
      "Epoch 56/60\n",
      "1/1 [==============================] - 0s 3ms/step - loss: 0.0309\n",
      "Epoch 57/60\n",
      "1/1 [==============================] - 0s 4ms/step - loss: 0.0302\n",
      "Epoch 58/60\n",
      "1/1 [==============================] - 0s 4ms/step - loss: 0.0296\n",
      "Epoch 59/60\n",
      "1/1 [==============================] - 0s 3ms/step - loss: 0.0290\n",
      "Epoch 60/60\n",
      "1/1 [==============================] - 0s 2ms/step - loss: 0.0284\n"
     ]
    },
    {
     "data": {
      "text/plain": [
       "<keras.callbacks.History at 0x1d56223b970>"
      ]
     },
     "execution_count": 6,
     "metadata": {},
     "output_type": "execute_result"
    }
   ],
   "source": [
    "model.fit(xs, ys, epochs=60)\n"
   ]
  },
  {
   "cell_type": "code",
   "execution_count": 8,
   "id": "da8d20d3",
   "metadata": {},
   "outputs": [
    {
     "name": "stdout",
     "output_type": "stream",
     "text": [
      "1/1 [==============================] - 0s 33ms/step\n",
      "[[31.477463]]\n"
     ]
    }
   ],
   "source": [
    "print(model.predict([10.0]))\n"
   ]
  },
  {
   "cell_type": "code",
   "execution_count": null,
   "id": "9ff0798f",
   "metadata": {},
   "outputs": [],
   "source": []
  }
 ],
 "metadata": {
  "kernelspec": {
   "display_name": "Python 3",
   "language": "python",
   "name": "python3"
  },
  "language_info": {
   "codemirror_mode": {
    "name": "ipython",
    "version": 3
   },
   "file_extension": ".py",
   "mimetype": "text/x-python",
   "name": "python",
   "nbconvert_exporter": "python",
   "pygments_lexer": "ipython3",
   "version": "3.8.8"
  }
 },
 "nbformat": 4,
 "nbformat_minor": 5
}
